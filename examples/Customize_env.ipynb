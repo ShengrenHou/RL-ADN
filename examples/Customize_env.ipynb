{
 "cells": [
  {
   "cell_type": "markdown",
   "source": [
    "This script is used to show how to create customize environment based on the template environment. Here, we modified the reward function based on the optimal goal: that is maximizing the profit of batteries, and ignore the penalty of voltage violations"
   ],
   "metadata": {
    "collapsed": false
   }
  },
  {
   "cell_type": "code",
   "execution_count": null,
   "outputs": [],
   "source": [
    "# install the package\n",
    "!pip install RL-ADN\n",
    "!pip install pandapower\n",
    "!pip install numpy\n",
    "!pip install gym\n"
   ],
   "metadata": {
    "collapsed": false,
    "pycharm": {
     "name": "#%%\n"
    }
   }
  },
  {
   "cell_type": "code",
   "execution_count": 5,
   "outputs": [],
   "source": [
    "# import packages\n",
    "\n",
    "import numpy as np\n",
    "from power_network_rl.environments.Environment_Integrated import PowerNetEnv"
   ],
   "metadata": {
    "collapsed": false,
    "pycharm": {
     "name": "#%%\n"
    }
   }
  },
  {
   "cell_type": "code",
   "execution_count": 6,
   "metadata": {
    "collapsed": true
   },
   "outputs": [
    {
     "name": "stdout",
     "output_type": "stream",
     "text": [
      "Data scale: from 2020-07-17 to 2021-01-01\n",
      "Data time interval: 15 minutes\n",
      "Dataset loaded from D:\\BaiduNetdiskDownload\\HSR\\GITHUB\\RL-ADN\\power_network_rl\\data_sources\\time_series_data\\34_node_time_series.csv\n",
      "Dataset dimensions: (16224, 69)\n",
      "Dataset contains the following types of data:\n",
      "Active power columns: ['active_power_node_1', 'active_power_node_2', 'active_power_node_3', 'active_power_node_4', 'active_power_node_5', 'active_power_node_6', 'active_power_node_7', 'active_power_node_8', 'active_power_node_9', 'active_power_node_10', 'active_power_node_11', 'active_power_node_12', 'active_power_node_13', 'active_power_node_14', 'active_power_node_15', 'active_power_node_16', 'active_power_node_17', 'active_power_node_18', 'active_power_node_19', 'active_power_node_20', 'active_power_node_21', 'active_power_node_22', 'active_power_node_23', 'active_power_node_24', 'active_power_node_25', 'active_power_node_26', 'active_power_node_27', 'active_power_node_28', 'active_power_node_29', 'active_power_node_30', 'active_power_node_31', 'active_power_node_32', 'active_power_node_33', 'active_power_node_34'] (Indices: [0, 1, 2, 3, 4, 5, 6, 7, 8, 9, 10, 11, 12, 13, 14, 15, 16, 17, 18, 19, 20, 21, 22, 23, 24, 25, 26, 27, 28, 29, 30, 31, 32, 33])\n",
      "Reactive power columns: [] (Indices: [])\n",
      "Renewable active power columns: ['renewable_active_power_node_1', 'renewable_active_power_node_2', 'renewable_active_power_node_3', 'renewable_active_power_node_4', 'renewable_active_power_node_5', 'renewable_active_power_node_6', 'renewable_active_power_node_7', 'renewable_active_power_node_8', 'renewable_active_power_node_9', 'renewable_active_power_node_10', 'renewable_active_power_node_11', 'renewable_active_power_node_12', 'renewable_active_power_node_13', 'renewable_active_power_node_14', 'renewable_active_power_node_15', 'renewable_active_power_node_16', 'renewable_active_power_node_17', 'renewable_active_power_node_18', 'renewable_active_power_node_19', 'renewable_active_power_node_20', 'renewable_active_power_node_21', 'renewable_active_power_node_22', 'renewable_active_power_node_23', 'renewable_active_power_node_24', 'renewable_active_power_node_25', 'renewable_active_power_node_26', 'renewable_active_power_node_27', 'renewable_active_power_node_28', 'renewable_active_power_node_29', 'renewable_active_power_node_30', 'renewable_active_power_node_31', 'renewable_active_power_node_32', 'renewable_active_power_node_33', 'renewable_active_power_node_34'] (Indices: [34, 35, 36, 37, 38, 39, 40, 41, 42, 43, 44, 45, 46, 47, 48, 49, 50, 51, 52, 53, 54, 55, 56, 57, 58, 59, 60, 61, 62, 63, 64, 65, 66, 67])\n",
      "Renewable reactive power columns: [] (Indices: [])\n",
      "Price columns: ['price'] (Indices: [68])\n",
      "-104.4077\n",
      "-9.02\n"
     ]
    }
   ],
   "source": [
    "# set and prepare data, configuration for the initializing of the environment\n",
    "import pkg_resources\n",
    "\n",
    "line_data_path = pkg_resources.resource_filename('power_network_rl', 'data_sources/network_data/node_34/Lines_34.csv')\n",
    "node_data_path= pkg_resources.resource_filename('power_network_rl', 'data_sources/network_data/node_34/Nodes_34.csv')\n",
    "time_series_data_path= pkg_resources.resource_filename('power_network_rl', 'data_sources/time_series_data/34_node_time_series.csv')\n",
    "# set yourself data path based on given example config, and based on the config, create environment\n",
    "env_config={'voltage_limits': [0.95, 1.05],\n",
    " 'algorithm': 'Laurent',\n",
    " 'battery_list': [11, 15, 26, 29, 33],\n",
    " 'year': 2020,\n",
    " 'month': 1,\n",
    " 'day': 1,\n",
    " 'train': True,\n",
    " 'state_pattern': 'default',\n",
    " 'network_info': {'vm_pu':1.0,'s_base':1000,\n",
    "                'bus_info_file': node_data_path,\n",
    "                'branch_info_file': line_data_path},\n",
    " 'time_series_data_path': time_series_data_path}\n",
    "env = PowerNetEnv(env_config)"
   ]
  },
  {
   "cell_type": "markdown",
   "source": [
    "### Creating new profitting environment based on our primary environment\n",
    "In this new environment, the voltage violation penalty is ignored while the goal is minizie the operating cost"
   ],
   "metadata": {
    "collapsed": false
   }
  },
  {
   "cell_type": "code",
   "execution_count": 9,
   "outputs": [],
   "source": [
    "class ProfitBatteryEnv(PowerNetEnv):\n",
    "    def __init__(self, env_config:env_config):\n",
    "        super().__init__(env_config)  # Call the constructor of the parent class\n",
    "\n",
    "    def _calculate_reward(self, current_normalized_obs: np.ndarray, vm_pu_after_control_bat: np.ndarray, saved_power: float) -> float:\n",
    "        \"\"\"\n",
    "        Your new reward calculation logic goes here.\n",
    "\n",
    "        Parameters:\n",
    "            current_normalized_obs (np.ndarray): The current normalized observations.\n",
    "            vm_pu_after_control_bat (np.ndarray): The voltage after control at battery locations.\n",
    "            saved_power (float): The amount of power saved.\n",
    "\n",
    "        Returns:\n",
    "            float: Calculated reward.\n",
    "        \"\"\"\n",
    "\n",
    "        # Your new logic to calculate the reward\n",
    "        # For example, let's say the reward is now twice the saved power\n",
    "        new_reward = 2 * saved_power\n",
    "\n",
    "        return new_reward"
   ],
   "metadata": {
    "collapsed": false,
    "pycharm": {
     "name": "#%%\n"
    }
   }
  },
  {
   "cell_type": "code",
   "execution_count": null,
   "outputs": [],
   "source": [
    "profit_battery_env = ProfitBatteryEnv(env_config)\n",
    "profit_battery_env.reset()\n",
    "\n",
    "for j in range(1):\n",
    "    episode_reward = 0\n",
    "    for i in range(1000):\n",
    "        tem_action = np.ones(len(profit_battery_env.battery_list))\n",
    "        next_obs, reward, finish, info = profit_battery_env.step(tem_action)\n",
    "        print(reward)\n",
    "        episode_reward += reward\n",
    "    print(episode_reward)"
   ],
   "metadata": {
    "collapsed": false,
    "pycharm": {
     "name": "#%%\n",
     "is_executing": true
    }
   }
  },
  {
   "cell_type": "code",
   "execution_count": null,
   "outputs": [],
   "source": [],
   "metadata": {
    "collapsed": false,
    "pycharm": {
     "name": "#%%\n"
    }
   }
  }
 ],
 "metadata": {
  "kernelspec": {
   "display_name": "Python 3",
   "language": "python",
   "name": "python3"
  },
  "language_info": {
   "codemirror_mode": {
    "name": "ipython",
    "version": 2
   },
   "file_extension": ".py",
   "mimetype": "text/x-python",
   "name": "python",
   "nbconvert_exporter": "python",
   "pygments_lexer": "ipython2",
   "version": "2.7.6"
  }
 },
 "nbformat": 4,
 "nbformat_minor": 0
}